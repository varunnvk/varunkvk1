{
 "cells": [
  {
   "cell_type": "markdown",
   "id": "4a4e72be",
   "metadata": {},
   "source": [
    "# Employee Project Management and Performance Analysis using NumPy and Pandas\n",
    "_Revised version (NumPy + Pandas enforced) - 2025-08-31 13:41 UTC_\n",
    "\n",
    "This notebook demonstrates **data analysis and transformation** using both **NumPy** and **Pandas**.\n",
    "\n",
    "We solve 10 tasks step by step.  \n",
    "Each task includes:  \n",
    "- Markdown explanation  \n",
    "- Python code with **NumPy + Pandas**  \n",
    "- Clear outputs\n",
    "\n",
    "---\n"
   ]
  },
  {
   "cell_type": "markdown",
   "id": "ed04983f",
   "metadata": {},
   "source": [
    "## Task 1\n",
    "Load data from CSV into Pandas DataFrames."
   ]
  },
  {
   "cell_type": "code",
   "execution_count": null,
   "id": "edd4b3da",
   "metadata": {},
   "outputs": [],
   "source": [
    "import pandas as pd\n",
    "import numpy as np\n",
    "\n",
    "df_project = pd.read_csv(r\"/mnt/data/Project.csv\")\n",
    "df_employee = pd.read_csv(r\"/mnt/data/Employee.csv\")\n",
    "df_seniority = pd.read_csv(r\"/mnt/data/Seniority.csv\")\n",
    "\n",
    "display(df_project.head())\n",
    "display(df_employee.head())\n",
    "display(df_seniority.head())"
   ]
  },
  {
   "cell_type": "markdown",
   "id": "3b5be692",
   "metadata": {},
   "source": [
    "## Task 2\n",
    "Fill missing Cost values using **NumPy running average**."
   ]
  },
  {
   "cell_type": "code",
   "execution_count": null,
   "id": "4624ff6e",
   "metadata": {},
   "outputs": [],
   "source": [
    "costs = df_project[\"Cost\"].astype(float).values\n",
    "for i in range(len(costs)):\n",
    "    if np.isnan(costs[i]):\n",
    "        costs[i] = np.nanmean(costs[:i])\n",
    "df_project[\"Cost\"] = costs\n",
    "display(df_project)"
   ]
  },
  {
   "cell_type": "markdown",
   "id": "edd521b0",
   "metadata": {},
   "source": [
    "## Task 3\n",
    "Split Name into First and Last using Pandas string ops."
   ]
  },
  {
   "cell_type": "code",
   "execution_count": null,
   "id": "e511de63",
   "metadata": {},
   "outputs": [],
   "source": [
    "names = df_employee[\"Name\"].str.split(\" \", n=1, expand=True)\n",
    "df_employee[\"First Name\"], df_employee[\"Last Name\"] = names[0], names[1]\n",
    "df_employee = df_employee.drop(columns=[\"Name\"])\n",
    "display(df_employee)"
   ]
  },
  {
   "cell_type": "markdown",
   "id": "32e8dcb8",
   "metadata": {},
   "source": [
    "## Task 4\n",
    "Join Project, Employee, and Seniority into Final DataFrame."
   ]
  },
  {
   "cell_type": "code",
   "execution_count": null,
   "id": "1291bbc8",
   "metadata": {},
   "outputs": [],
   "source": [
    "final_df = df_project.merge(df_employee, on=\"ID\").merge(df_seniority, on=\"ID\")\n",
    "display(final_df.head())"
   ]
  },
  {
   "cell_type": "markdown",
   "id": "d72f9840",
   "metadata": {},
   "source": [
    "## Task 5\n",
    "Add Bonus column: 5% of cost if Finished."
   ]
  },
  {
   "cell_type": "code",
   "execution_count": null,
   "id": "a200d46b",
   "metadata": {},
   "outputs": [],
   "source": [
    "bonus = np.where(final_df[\"Status\"].eq(\"Finished\"), 0.05*final_df[\"Cost\"], 0.0)\n",
    "final_df[\"Bonus\"] = bonus\n",
    "display(final_df.head())"
   ]
  },
  {
   "cell_type": "markdown",
   "id": "b9e0d3aa",
   "metadata": {},
   "source": [
    "## Task 6\n",
    "Demote designation for Failed projects; drop >4."
   ]
  },
  {
   "cell_type": "code",
   "execution_count": null,
   "id": "f61e0759",
   "metadata": {},
   "outputs": [],
   "source": [
    "final_df.loc[final_df[\"Status\"]==\"Failed\", \"Designation Level\"] += 1\n",
    "final_df = final_df[final_df[\"Designation Level\"] <= 4].reset_index(drop=True)\n",
    "display(final_df.head())"
   ]
  },
  {
   "cell_type": "markdown",
   "id": "fb642e8c",
   "metadata": {},
   "source": [
    "## Task 7\n",
    "Prefix Mr./Mrs. using NumPy where; drop Gender."
   ]
  },
  {
   "cell_type": "code",
   "execution_count": null,
   "id": "fc950560",
   "metadata": {},
   "outputs": [],
   "source": [
    "first_names = np.where(final_df[\"Gender\"]==\"M\",\n",
    "                       \"Mr. \" + final_df[\"First Name\"],\n",
    "                       \"Mrs. \" + final_df[\"First Name\"])\n",
    "final_df[\"First Name\"] = first_names\n",
    "final_df = final_df.drop(columns=[\"Gender\"])\n",
    "display(final_df.head())"
   ]
  },
  {
   "cell_type": "markdown",
   "id": "ab27825a",
   "metadata": {},
   "source": [
    "## Task 8\n",
    "Promote (reduce level) for Age > 29 using NumPy boolean mask."
   ]
  },
  {
   "cell_type": "code",
   "execution_count": null,
   "id": "803a90e9",
   "metadata": {},
   "outputs": [],
   "source": [
    "mask = final_df[\"Age\"].values > 29\n",
    "final_df.loc[mask, \"Designation Level\"] -= 1\n",
    "display(final_df.head())"
   ]
  },
  {
   "cell_type": "markdown",
   "id": "63611665",
   "metadata": {},
   "source": [
    "## Task 9\n",
    "Aggregate Cost by ID + First Name."
   ]
  },
  {
   "cell_type": "code",
   "execution_count": null,
   "id": "a7b44a72",
   "metadata": {},
   "outputs": [],
   "source": [
    "TotalProjCost = (final_df.groupby([\"ID\",\"First Name\"], as_index=False)[\"Cost\"]\n",
    "                           .sum()\n",
    "                           .rename(columns={\"Cost\":\"TotalProjCost\"}))\n",
    "display(TotalProjCost)"
   ]
  },
  {
   "cell_type": "markdown",
   "id": "62453fd9",
   "metadata": {},
   "source": [
    "## Task 10\n",
    "Employees with 'o' in City name."
   ]
  },
  {
   "cell_type": "code",
   "execution_count": null,
   "id": "5f4caad7",
   "metadata": {},
   "outputs": [],
   "source": [
    "mask = final_df[\"City\"].str.contains(\"o\", case=False).values\n",
    "city_with_o = final_df[mask]\n",
    "display(city_with_o)"
   ]
  }
 ],
 "metadata": {},
 "nbformat": 4,
 "nbformat_minor": 5
}
